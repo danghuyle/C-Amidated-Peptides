{
 "cells": [
  {
   "cell_type": "code",
   "execution_count": 2,
   "id": "73badb41",
   "metadata": {},
   "outputs": [
    {
     "name": "stdout",
     "output_type": "stream",
     "text": [
      "0    1145\n",
      "1    1530\n",
      "Name: target, dtype: int64\n",
      "\n",
      "Ranked Features:\n",
      "['CKSAAGP_alphaticr.uncharger.gap2', 'CKSAAGP_uncharger.uncharger.gap3', 'AAC_A', 'CKSAAGP_uncharger.uncharger.gap3 & CTDC_hydrophobicity_PONP930101.G3', 'CKSAAGP_alphaticr.postivecharger.gap1 & CTDC_hydrophobicity_PONP930101.G3', 'CTDD_hydrophobicity_FASG890101.3.residue75', 'CKSAAGP_uncharger.uncharger.gap3 & Charge', 'CTDC_hydrophobicity_PONP930101.G3 & CTDD_hydrophobicity_CASG920101.3.residue0', 'CTDC_hydrophobicity_PONP930101.G3 & Charge', 'CKSAAGP_alphaticr.postivecharger.gap1', 'CTDD_hydrophobicity_CASG920101.3.residue0 & Charge', 'CTDD_hydrophobicity_CASG920101.3.residue0 & CTDD_hydrophobicity_ZIMJ680101.3.residue50', 'CKSAAGP_alphaticr.postivecharger.gap1 & Charge', 'CKSAAGP_alphaticr.postivecharger.gap1 & CTDD_hydrophobicity_ZIMJ680101.3.residue50', 'CTDD_hydrophobicity_ZIMJ680101.3.residue50', 'CTDC_hydrophobicity_PONP930101.G3', 'CTDD_hydrophobicity_CASG920101.3.residue0', 'Charge']\n",
      "\n",
      "Training Metrics:\n",
      "Accuracy:             0.8426\n",
      "Balanced Accuracy:    0.8332\n",
      "F1 Score:             0.8672\n",
      "Precision:            0.8379\n",
      "Recall:               0.8987\n",
      "AUC ROC:              0.9214\n",
      "AUC PR:               0.9386\n",
      "MCC:                  0.6771\n",
      "\n",
      "Test Metrics:\n",
      "Accuracy:             0.7668\n",
      "Balanced Accuracy:    0.7565\n",
      "F1 Score:             0.8025\n",
      "Precision:            0.7789\n",
      "Recall:               0.8277\n",
      "AUC ROC:              0.8355\n",
      "AUC PR:               0.8563\n",
      "MCC:                  0.5199\n"
     ]
    }
   ],
   "source": [
    "import pandas as pd\n",
    "import numpy as np\n",
    "import matplotlib.pyplot as plt\n",
    "import os\n",
    "from interpret.glassbox import ExplainableBoostingClassifier\n",
    "from sklearn.feature_selection import SequentialFeatureSelector\n",
    "from sklearn.model_selection import StratifiedKFold, cross_val_score\n",
    "from sklearn.metrics import (\n",
    "    accuracy_score, f1_score, precision_score, recall_score,\n",
    "    balanced_accuracy_score, roc_auc_score, average_precision_score,\n",
    "    matthews_corrcoef, ConfusionMatrixDisplay, roc_curve, auc,\n",
    "    precision_recall_curve\n",
    ")\n",
    "from joblib import load, dump\n",
    "from interpret.perf import ROC\n",
    "\n",
    "x_train = pd.read_csv(\"output/composition_CTD_global/x_train_composition_CTD_global.csv\")\n",
    "x_test = pd.read_csv(\"output/composition_CTD_global/x_test_composition_CTD_global.csv\")\n",
    "y_train = pd.read_csv(\"output/composition_CTD_global/y_train_composition_CTD_global.csv\").squeeze()\n",
    "y_test = pd.read_csv(\"output/composition_CTD_global/y_test_composition_CTD_global.csv\").squeeze()\n",
    "\n",
    "group_counts = y_train.value_counts().sort_index()\n",
    "print(group_counts)\n",
    "\n",
    "ebm = load(\"ebm_model.pkl\")\n",
    "cv = StratifiedKFold(n_splits=5, shuffle=True, random_state=100)\n",
    "\n",
    "selected_feature_names = [\n",
    "    'AAC_A',\n",
    "    'CKSAAGP_alphaticr.postivecharger.gap1',\n",
    "    'CKSAAGP_alphaticr.uncharger.gap2',\n",
    "    'CKSAAGP_uncharger.uncharger.gap3',\n",
    "    'CTDC_hydrophobicity_PONP930101.G3',\n",
    "    'CTDD_hydrophobicity_CASG920101.3.residue0',\n",
    "    'CTDD_hydrophobicity_FASG890101.3.residue75',\n",
    "    'CTDD_hydrophobicity_ZIMJ680101.3.residue50',\n",
    "    'Charge'\n",
    "]\n",
    "\n",
    "x_train_final = x_train[selected_feature_names]\n",
    "x_test_final = x_test[selected_feature_names]\n",
    "\n",
    "y_train_pred = ebm.predict(x_train_final)\n",
    "y_test_pred = ebm.predict(x_test_final)\n",
    "\n",
    "term_importances = ebm.term_importances()\n",
    "term_names = ebm.term_names_\n",
    "ranked_term_names = [name for name, _ in sorted(zip(term_names, term_importances), key=lambda x: x[1])]\n",
    "print(\"\\nRanked Features:\")\n",
    "print(ranked_term_names)\n",
    "\n",
    "y_train_pred_proba = ebm.predict_proba(x_train_final)\n",
    "y_test_pred_proba = ebm.predict_proba(x_test_final)\n",
    "\n",
    "def binary_metrics(y_true, y_pred, y_pred_proba):\n",
    "    accuracy = accuracy_score(y_true, y_pred)\n",
    "    balanced_acc = balanced_accuracy_score(y_true, y_pred)\n",
    "    f1 = f1_score(y_true, y_pred)\n",
    "    precision = precision_score(y_true, y_pred)\n",
    "    recall = recall_score(y_true, y_pred)\n",
    "    auc_roc = roc_auc_score(y_true, y_pred_proba[:, 1])\n",
    "    auc_pr = average_precision_score(y_true, y_pred_proba[:, 1])\n",
    "    mcc = matthews_corrcoef(y_true, y_pred)\n",
    "    return accuracy, balanced_acc, f1, precision, recall, auc_roc, auc_pr, mcc\n",
    "\n",
    "train_metrics = binary_metrics(y_train, y_train_pred, y_train_pred_proba)\n",
    "test_metrics = binary_metrics(y_test, y_test_pred, y_test_pred_proba)\n",
    "\n",
    "print(\"\\nTraining Metrics:\")\n",
    "print(f\"Accuracy:             {train_metrics[0]:.4f}\")\n",
    "print(f\"Balanced Accuracy:    {train_metrics[1]:.4f}\")\n",
    "print(f\"F1 Score:             {train_metrics[2]:.4f}\")\n",
    "print(f\"Precision:            {train_metrics[3]:.4f}\")\n",
    "print(f\"Recall:               {train_metrics[4]:.4f}\")\n",
    "print(f\"AUC ROC:              {train_metrics[5]:.4f}\")\n",
    "print(f\"AUC PR:               {train_metrics[6]:.4f}\")\n",
    "print(f\"MCC:                  {train_metrics[7]:.4f}\")\n",
    "\n",
    "print(\"\\nTest Metrics:\")\n",
    "print(f\"Accuracy:             {test_metrics[0]:.4f}\")\n",
    "print(f\"Balanced Accuracy:    {test_metrics[1]:.4f}\")\n",
    "print(f\"F1 Score:             {test_metrics[2]:.4f}\")\n",
    "print(f\"Precision:            {test_metrics[3]:.4f}\")\n",
    "print(f\"Recall:               {test_metrics[4]:.4f}\")\n",
    "print(f\"AUC ROC:              {test_metrics[5]:.4f}\")\n",
    "print(f\"AUC PR:               {test_metrics[6]:.4f}\")\n",
    "print(f\"MCC:                  {test_metrics[7]:.4f}\")\n"
   ]
  },
  {
   "cell_type": "code",
   "execution_count": 3,
   "id": "53d2554f",
   "metadata": {},
   "outputs": [
    {
     "data": {
      "text/html": [
       "<!-- http://127.0.0.1:7001/1957169429568/ -->\n",
       "<iframe src=\"http://127.0.0.1:7001/1957169429568/\" width=100% height=800 frameBorder=\"0\"></iframe>"
      ]
     },
     "metadata": {},
     "output_type": "display_data"
    }
   ],
   "source": [
    "from interpret import show\n",
    "\n",
    "ebm_global = ebm.explain_global(name='EBM')\n",
    "show(ebm_global)"
   ]
  },
  {
   "cell_type": "code",
   "execution_count": 7,
   "id": "bd552abc",
   "metadata": {},
   "outputs": [
    {
     "data": {
      "text/html": [
       "<!-- http://127.0.0.1:7001/1957190328576/ -->\n",
       "<a href=\"http://127.0.0.1:7001/1957190328576/\" target=\"_new\">Open in new window</a><iframe src=\"http://127.0.0.1:7001/1957190328576/\" width=100% height=800 frameBorder=\"0\"></iframe>"
      ]
     },
     "metadata": {},
     "output_type": "display_data"
    }
   ],
   "source": [
    "show([hist, ebm_global, ebm_local, ebm_perf], share_tables=True)"
   ]
  }
 ],
 "metadata": {
  "kernelspec": {
   "display_name": "overall-env",
   "language": "python",
   "name": "python3"
  },
  "language_info": {
   "codemirror_mode": {
    "name": "ipython",
    "version": 3
   },
   "file_extension": ".py",
   "mimetype": "text/x-python",
   "name": "python",
   "nbconvert_exporter": "python",
   "pygments_lexer": "ipython3",
   "version": "3.10.18"
  }
 },
 "nbformat": 4,
 "nbformat_minor": 5
}
